{
 "cells": [
  {
   "cell_type": "code",
   "execution_count": 1,
   "id": "217dd41e-8d45-4910-9cbe-45f3d23bfb2d",
   "metadata": {},
   "outputs": [],
   "source": [
    "from ipylab import JupyterFrontEnd\n",
    "app = JupyterFrontEnd()"
   ]
  },
  {
   "cell_type": "code",
   "execution_count": 2,
   "id": "6982a54b-d801-4b2b-b2ba-054bb1cce404",
   "metadata": {},
   "outputs": [],
   "source": [
    "import ipywidgets"
   ]
  },
  {
   "cell_type": "code",
   "execution_count": 3,
   "id": "21188df3-5c8f-4d68-8161-da6301806862",
   "metadata": {},
   "outputs": [
    {
     "data": {
      "application/vnd.jupyter.widget-view+json": {
       "model_id": "6861905faad741a48d7a16a2def3c27f",
       "version_major": 2,
       "version_minor": 0
      },
      "text/plain": [
       "Text(value='hello')"
      ]
     },
     "execution_count": 3,
     "metadata": {},
     "output_type": "execute_result"
    }
   ],
   "source": [
    "greetings = ipywidgets.Text(\"hello\")\n",
    "def handle_change(change):\n",
    "    app.commands.execute(\"@mljar/mercury-execute-below\")\n",
    "\n",
    "greetings.observe(handle_change, names='value')\n",
    "greetings"
   ]
  },
  {
   "cell_type": "code",
   "execution_count": 4,
   "id": "025ca69b-2410-48e4-8e4c-7d8b9d4a4d84",
   "metadata": {},
   "outputs": [
    {
     "name": "stdout",
     "output_type": "stream",
     "text": [
      "hello\n"
     ]
    }
   ],
   "source": [
    "print(greetings.value)"
   ]
  },
  {
   "cell_type": "code",
   "execution_count": null,
   "id": "fa1a6437-9b54-4d78-a380-177ee5824551",
   "metadata": {},
   "outputs": [],
   "source": []
  },
  {
   "cell_type": "code",
   "execution_count": null,
   "id": "284d4951-a73e-4e5b-8e30-7d41f0b5429b",
   "metadata": {},
   "outputs": [],
   "source": []
  }
 ],
 "metadata": {
  "kernelspec": {
   "display_name": "Python 3 (ipykernel)",
   "language": "python",
   "name": "python3"
  },
  "language_info": {
   "codemirror_mode": {
    "name": "ipython",
    "version": 3
   },
   "file_extension": ".py",
   "mimetype": "text/x-python",
   "name": "python",
   "nbconvert_exporter": "python",
   "pygments_lexer": "ipython3",
   "version": "3.11.5"
  }
 },
 "nbformat": 4,
 "nbformat_minor": 5
}
